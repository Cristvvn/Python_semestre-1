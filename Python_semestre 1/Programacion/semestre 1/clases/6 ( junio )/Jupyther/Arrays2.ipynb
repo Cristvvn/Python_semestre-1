{
 "cells": [
  {
   "cell_type": "code",
   "execution_count": 92,
   "metadata": {},
   "outputs": [],
   "source": [
    "#IMPORTANDO LIBRERÍA NUMPY\n",
    "\n",
    "import numpy as np"
   ]
  },
  {
   "cell_type": "code",
   "execution_count": 93,
   "metadata": {},
   "outputs": [
    {
     "data": {
      "text/plain": [
       "[1, 2, 3, 4, 5, 6, 7, 8, 9, 10]"
      ]
     },
     "execution_count": 93,
     "metadata": {},
     "output_type": "execute_result"
    }
   ],
   "source": [
    "#Creando una lista de 10 Elementos\n",
    "\n",
    "lista = list(range(1,11))\n",
    "lista"
   ]
  },
  {
   "attachments": {},
   "cell_type": "markdown",
   "metadata": {},
   "source": [
    "Transformando la Lista a un Array   "
   ]
  },
  {
   "cell_type": "code",
   "execution_count": 94,
   "metadata": {},
   "outputs": [
    {
     "data": {
      "text/plain": [
       "array([ 1,  2,  3,  4,  5,  6,  7,  8,  9, 10])"
      ]
     },
     "execution_count": 94,
     "metadata": {},
     "output_type": "execute_result"
    }
   ],
   "source": [
    "arreglo = np.array(lista)\n",
    "arreglo"
   ]
  },
  {
   "cell_type": "code",
   "execution_count": 95,
   "metadata": {},
   "outputs": [
    {
     "data": {
      "text/plain": [
       "numpy.ndarray"
      ]
     },
     "execution_count": 95,
     "metadata": {},
     "output_type": "execute_result"
    }
   ],
   "source": [
    "#Corroborando el tipo de estructura\n",
    "\n",
    "type(arreglo)"
   ]
  },
  {
   "cell_type": "code",
   "execution_count": 96,
   "metadata": {},
   "outputs": [
    {
     "data": {
      "text/plain": [
       "dtype('int32')"
      ]
     },
     "execution_count": 96,
     "metadata": {},
     "output_type": "execute_result"
    }
   ],
   "source": [
    "#Corroborando el tipo de datos del arreglo\n",
    "arreglo.dtype"
   ]
  },
  {
   "cell_type": "code",
   "execution_count": 97,
   "metadata": {},
   "outputs": [
    {
     "data": {
      "text/plain": [
       "array([ 1.,  2.,  3.,  4.,  5.,  6.,  7.,  8.,  9., 10.], dtype=float32)"
      ]
     },
     "execution_count": 97,
     "metadata": {},
     "output_type": "execute_result"
    }
   ],
   "source": [
    "#Definiendo el Array de int32 a float32\n",
    "\n",
    "np.array(arreglo, dtype=np.float32)\n"
   ]
  },
  {
   "cell_type": "code",
   "execution_count": 98,
   "metadata": {},
   "outputs": [
    {
     "data": {
      "text/plain": [
       "array([ 1,  2,  3,  4,  5,  6,  7,  8,  9, 10])"
      ]
     },
     "execution_count": 98,
     "metadata": {},
     "output_type": "execute_result"
    }
   ],
   "source": [
    "#Sigue siendo un array de int32\n",
    "\n",
    "arreglo"
   ]
  },
  {
   "cell_type": "code",
   "execution_count": 99,
   "metadata": {},
   "outputs": [
    {
     "data": {
      "text/plain": [
       "array([ 1.,  2.,  3.,  4.,  5.,  6.,  7.,  8.,  9., 10.], dtype=float32)"
      ]
     },
     "execution_count": 99,
     "metadata": {},
     "output_type": "execute_result"
    }
   ],
   "source": [
    "#Transformando los datos de int32 a float32\n",
    "\n",
    "arreglo.astype(np.float32)"
   ]
  },
  {
   "cell_type": "code",
   "execution_count": 100,
   "metadata": {},
   "outputs": [
    {
     "data": {
      "text/plain": [
       "array([ 1,  2,  3,  4,  5,  6,  7,  8,  9, 10])"
      ]
     },
     "execution_count": 100,
     "metadata": {},
     "output_type": "execute_result"
    }
   ],
   "source": [
    "#También existe una función similar a Range pero ocupando Arrays\n",
    "\n",
    "arreglonuevo = np.arange(1,11)\n",
    "arreglonuevo"
   ]
  },
  {
   "cell_type": "code",
   "execution_count": 101,
   "metadata": {},
   "outputs": [
    {
     "data": {
      "text/plain": [
       "array([1, 3, 5, 7, 9])"
      ]
     },
     "execution_count": 101,
     "metadata": {},
     "output_type": "execute_result"
    }
   ],
   "source": [
    "\n",
    "#Arreglo de 2 en 2 utilizando Arange\n",
    "\n",
    "arreglonuevo2 = np.arange(1,11,2)\n",
    "arreglonuevo2"
   ]
  },
  {
   "attachments": {},
   "cell_type": "markdown",
   "metadata": {},
   "source": [
    "ALGUNAS FUNCIONES DE NUMPY\n",
    "\n",
    "\n"
   ]
  },
  {
   "cell_type": "code",
   "execution_count": 102,
   "metadata": {},
   "outputs": [
    {
     "data": {
      "text/plain": [
       "5.5"
      ]
     },
     "execution_count": 102,
     "metadata": {},
     "output_type": "execute_result"
    }
   ],
   "source": [
    "#Obteniendo el promedio del array\n",
    "\n",
    "promedio = np.mean(arreglo)\n",
    "promedio\n",
    "\n"
   ]
  },
  {
   "cell_type": "code",
   "execution_count": 103,
   "metadata": {},
   "outputs": [
    {
     "data": {
      "text/plain": [
       "5.5"
      ]
     },
     "execution_count": 103,
     "metadata": {},
     "output_type": "execute_result"
    }
   ],
   "source": [
    "#Obteniendo la mediana del array\n",
    "\n",
    "mediana = np.median(arreglo)\n",
    "mediana\n"
   ]
  },
  {
   "cell_type": "code",
   "execution_count": 104,
   "metadata": {},
   "outputs": [
    {
     "data": {
      "text/plain": [
       "2.8722813232690143"
      ]
     },
     "execution_count": 104,
     "metadata": {},
     "output_type": "execute_result"
    }
   ],
   "source": [
    "#Desviación Estandar del Arreglo\n",
    "\n",
    "desviacion_std = np.std(arreglo)\n",
    "desviacion_std\n"
   ]
  },
  {
   "cell_type": "code",
   "execution_count": 105,
   "metadata": {},
   "outputs": [
    {
     "data": {
      "text/plain": [
       "array([1., 1., 1., 1., 1., 1., 1., 1., 1., 1.])"
      ]
     },
     "execution_count": 105,
     "metadata": {},
     "output_type": "execute_result"
    }
   ],
   "source": [
    "#Generación de un arreglo de 10 elementos de solo unos\n",
    "\n",
    "arreglo_de_unos = np.ones(10)\n",
    "arreglo_de_unos \n"
   ]
  },
  {
   "cell_type": "code",
   "execution_count": 106,
   "metadata": {},
   "outputs": [
    {
     "data": {
      "text/plain": [
       "array([0., 0., 0., 0., 0.])"
      ]
     },
     "execution_count": 106,
     "metadata": {},
     "output_type": "execute_result"
    }
   ],
   "source": [
    "#Generación de un arreglo de 10 elementos de solo ceros\n",
    "\n",
    "arreglo_de_ceros = np.zeros(5)\n",
    "arreglo_de_ceros"
   ]
  },
  {
   "cell_type": "code",
   "execution_count": 107,
   "metadata": {},
   "outputs": [
    {
     "data": {
      "text/plain": [
       "array([1, 1, 1, 1, 1, 1, 1, 1, 1, 1])"
      ]
     },
     "execution_count": 107,
     "metadata": {},
     "output_type": "execute_result"
    }
   ],
   "source": [
    "#Transformando el arreglo de unos de punto flotante a enteros\n",
    "\n",
    "arreglo_int_ones = arreglo_de_unos.astype(int)\n",
    "arreglo_int_ones "
   ]
  },
  {
   "attachments": {},
   "cell_type": "markdown",
   "metadata": {},
   "source": [
    "UTILIZANDO LA FUNCIÓN RANDOM"
   ]
  },
  {
   "cell_type": "code",
   "execution_count": 108,
   "metadata": {},
   "outputs": [
    {
     "data": {
      "text/plain": [
       "array([0.6193055 , 0.37657127, 0.61130467, 0.19796501, 0.00899376,\n",
       "       0.97626087, 0.62491369, 0.58878518, 0.56247772, 0.85292819])"
      ]
     },
     "execution_count": 108,
     "metadata": {},
     "output_type": "execute_result"
    }
   ],
   "source": [
    "#Generando arreglo aleatorio de 5 elementos\n",
    "\n",
    "arreglo_aleatorio = np.random.rand(10)\n",
    "arreglo_aleatorio \n"
   ]
  },
  {
   "cell_type": "code",
   "execution_count": 109,
   "metadata": {},
   "outputs": [
    {
     "data": {
      "text/plain": [
       "array([[0.73849972, 0.30887929, 0.93465386],\n",
       "       [0.33271925, 0.07145634, 0.09733602],\n",
       "       [0.41685917, 0.60140705, 0.4658178 ]])"
      ]
     },
     "execution_count": 109,
     "metadata": {},
     "output_type": "execute_result"
    }
   ],
   "source": [
    "#Generando una matriz aleatoria de 3x3\n",
    "\n",
    "matriz = np.random.rand(3,3)\n",
    "matriz"
   ]
  },
  {
   "cell_type": "code",
   "execution_count": 110,
   "metadata": {},
   "outputs": [
    {
     "data": {
      "text/plain": [
       "array([821, 648, 714, 449, 497])"
      ]
     },
     "execution_count": 110,
     "metadata": {},
     "output_type": "execute_result"
    }
   ],
   "source": [
    "#Generando un arreglo aleatorio de 10 números enteros del 1 al 5\n",
    "\n",
    "arreglo_aleatorio2  = np.random.randint(1,1001,5)\n",
    "arreglo_aleatorio2"
   ]
  },
  {
   "cell_type": "code",
   "execution_count": 111,
   "metadata": {},
   "outputs": [
    {
     "data": {
      "text/plain": [
       "array([[16, 26, 84, 10, 73,  1, 10, 74, 35, 48],\n",
       "       [76, 30, 14, 92, 60,  9,  7, 51, 33, 17],\n",
       "       [25, 69, 73, 81, 53, 81, 85, 94, 35, 72],\n",
       "       [37, 78, 71, 62,  6,  4, 86, 30, 23, 72],\n",
       "       [36, 48, 28, 41,  1, 53, 47, 35, 49, 47],\n",
       "       [10, 29, 85, 17,  6, 69, 24, 72, 97,  4],\n",
       "       [93, 88, 69, 78, 87, 18, 13, 25, 26, 82],\n",
       "       [35, 11, 58, 13,  9, 25, 22, 51, 50, 82],\n",
       "       [25, 81, 86, 43, 69,  8, 65, 92, 25, 69],\n",
       "       [96, 56, 59,  5, 39, 92, 63,  2, 69, 96]])"
      ]
     },
     "execution_count": 111,
     "metadata": {},
     "output_type": "execute_result"
    }
   ],
   "source": [
    "#Generando una matriz aleatoria de 10 números enteros del 1 al 100\n",
    "\n",
    "matriz2 = np.random.randint(1,101,(10,10))\n",
    "matriz2"
   ]
  },
  {
   "cell_type": "code",
   "execution_count": 112,
   "metadata": {},
   "outputs": [
    {
     "data": {
      "text/plain": [
       "array([[1., 1., 1., 1., 1.],\n",
       "       [1., 3., 3., 3., 1.],\n",
       "       [1., 3., 3., 3., 1.],\n",
       "       [1., 3., 3., 3., 1.],\n",
       "       [1., 1., 1., 1., 1.]])"
      ]
     },
     "execution_count": 112,
     "metadata": {},
     "output_type": "execute_result"
    }
   ],
   "source": [
    "matriz3= np.ones((5,5))\n",
    "matriz3[1:-1,1:-1]=3\n",
    "matriz3\n"
   ]
  }
 ],
 "metadata": {
  "kernelspec": {
   "display_name": "Python 3",
   "language": "python",
   "name": "python3"
  },
  "language_info": {
   "name": "python",
   "version": "3.11.4"
  },
  "orig_nbformat": 4
 },
 "nbformat": 4,
 "nbformat_minor": 2
}
